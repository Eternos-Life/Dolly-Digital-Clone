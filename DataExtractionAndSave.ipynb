{
 "cells": [
  {
   "cell_type": "markdown",
   "metadata": {},
   "source": [
    "# 🧠 Data Extraction and Storage\n",
    "\n",
    "This notebook is responsible for loading unstructured text data, performing basic exploration, and storing the data into a vector database for downstream retrieval tasks (e.g., Dolly Digital Twin Chatbot).\n",
    "\n",
    "---\n",
    "\n",
    "## 📂 1. Data Loading\n",
    "\n",
    "Load the contexts of the `data/` folder. You must load data from the following formats:\n",
    "- `.pdf` (PDF documents)\n",
    "- `.txt` (Plain text files)"
   ]
  },
  {
   "cell_type": "code",
   "execution_count": null,
   "metadata": {},
   "outputs": [],
   "source": [
    "#TODO: Load Data"
   ]
  },
  {
   "cell_type": "markdown",
   "metadata": {},
   "source": [
    "## 🔍 2. Data Exploration\n",
    "\n",
    "Once loaded, go over the data to get a better intuition of storage and prompting. Implementation of this step is up to you!"
   ]
  },
  {
   "cell_type": "code",
   "execution_count": null,
   "metadata": {},
   "outputs": [],
   "source": [
    "#TODO: Look into data to figure out data storage approaches and extracting speech pattern"
   ]
  },
  {
   "cell_type": "markdown",
   "metadata": {},
   "source": [
    "## 📦 3. Storage in Vector DB\n",
    "\n",
    "Store the loaded data into a Vecotor Store. Conisder what data transformation and chunking strategies you would need. Feel free to pick a vector store and embedding model of your liking."
   ]
  },
  {
   "cell_type": "code",
   "execution_count": null,
   "metadata": {},
   "outputs": [],
   "source": [
    "#TODO: Implement RAG storage"
   ]
  }
 ],
 "metadata": {
  "kernelspec": {
   "display_name": "Python (Vals)",
   "language": "python",
   "name": "vals"
  },
  "language_info": {
   "name": "python",
   "version": "3.12.9"
  }
 },
 "nbformat": 4,
 "nbformat_minor": 2
}
